{
 "cells": [
  {
   "cell_type": "markdown",
   "id": "3df974b1-e39f-49f6-8480-12a6bce0317b",
   "metadata": {},
   "source": [
    "NumPy Assignment\n"
   ]
  },
  {
   "cell_type": "code",
   "execution_count": 1,
   "id": "252e7c1b-6a89-4da7-8a4d-9e3dc63d9b6a",
   "metadata": {},
   "outputs": [
    {
     "name": "stdout",
     "output_type": "stream",
     "text": [
      "int64\n"
     ]
    }
   ],
   "source": [
    "#1. Create a NumPy array 'arr' of integers from 0 to 5 and print its data type.\n",
    "\n",
    "import numpy as np\n",
    "arr = np.array([0,1,2,3,4,5])\n",
    "print(arr.dtype)"
   ]
  },
  {
   "cell_type": "code",
   "execution_count": 5,
   "id": "fe4e1265-f1e7-4916-832b-f215c1f4c6eb",
   "metadata": {},
   "outputs": [
    {
     "name": "stdout",
     "output_type": "stream",
     "text": [
      "float64\n"
     ]
    }
   ],
   "source": [
    "#2. Given a NumPy array 'arr', check if its data type is float64.\n",
    "\n",
    "import numpy as np\n",
    "arr = np.array([1.5, 2.6, 3.7])\n",
    "print(arr.dtype)"
   ]
  },
  {
   "cell_type": "code",
   "execution_count": 9,
   "id": "ab96d4a0-d67b-4a60-9a58-a0077f5458cb",
   "metadata": {},
   "outputs": [
    {
     "name": "stdout",
     "output_type": "stream",
     "text": [
      "[1.+2.j 2.+3.j 3.+4.j]\n"
     ]
    }
   ],
   "source": [
    "#3. Create a NumPy array 'arr' with a data type of complex128 containing three complex numbers.\n",
    "\n",
    "import numpy as np\n",
    "arr = np.array([1+2j,2+3j,3+4j], dtype = np.complex128)\n",
    "print(arr)"
   ]
  },
  {
   "cell_type": "code",
   "execution_count": 11,
   "id": "5b47b575-7478-4d5c-920d-31d80bc78d5f",
   "metadata": {},
   "outputs": [
    {
     "name": "stdout",
     "output_type": "stream",
     "text": [
      "float32\n"
     ]
    }
   ],
   "source": [
    "#4. Convert an existing NumPy array 'arr' of integers to float32 data type.\n",
    "import numpy as np\n",
    "arr = np.array([1,2,3,4,5])\n",
    "arr_float32 = arr.astype(np.float32)\n",
    "print (arr_float32.dtype)"
   ]
  },
  {
   "cell_type": "code",
   "execution_count": 1,
   "id": "b5622e2c-0b7b-4c18-b13f-28f6b4636c0a",
   "metadata": {},
   "outputs": [
    {
     "name": "stdout",
     "output_type": "stream",
     "text": [
      "[1.2345679 2.3456788 3.456789  4.56789   5.6789   ]\n",
      "float32\n"
     ]
    }
   ],
   "source": [
    "#5. Given a NumPy array 'arr' with float64 data type, convert it to float32 to reduce decimal precision.\n",
    "import numpy as np\n",
    "\n",
    "arr = np.array([1.23456789, 2.3456789, 3.456789, 4.56789, 5.6789], dtype=np.float64)\n",
    "arr_float32 = arr.astype(np.float32)\n",
    "print(arr_float32)\n",
    "print(arr_float32.dtype)\n"
   ]
  },
  {
   "cell_type": "code",
   "execution_count": 3,
   "id": "5d7c4f86-01f4-4ff1-bca2-9f4c92450037",
   "metadata": {},
   "outputs": [
    {
     "name": "stdout",
     "output_type": "stream",
     "text": [
      "Shape: (2, 3)\n",
      "Size: 6\n",
      "Data type: int64\n"
     ]
    }
   ],
   "source": [
    "#6. Write a function array_attributes that takes a NumPy array as input and\n",
    "#returns its shape, size, and data type.\n",
    "\n",
    "import numpy as np\n",
    "\n",
    "def array_attributes(arr):\n",
    "    return arr.shape, arr.size, arr.dtype\n",
    "\n",
    "# Example:\n",
    "arr = np.array([[1, 2, 3], [4, 5, 6]])\n",
    "shape, size, dtype = array_attributes(arr)\n",
    "print(\"Shape:\", shape)\n",
    "print(\"Size:\", size)\n",
    "print(\"Data type:\", dtype)\n"
   ]
  },
  {
   "cell_type": "code",
   "execution_count": 4,
   "id": "fdc0c2ce-6adf-4224-a893-4cb0dfe147ab",
   "metadata": {},
   "outputs": [
    {
     "name": "stdout",
     "output_type": "stream",
     "text": [
      "Dimensionality of arr_1d: 1\n",
      "Dimensionality of arr_2d: 2\n",
      "Dimensionality of arr_3d: 3\n"
     ]
    }
   ],
   "source": [
    "#7. Create a function array_dimension that takes a NumPy array as input and returns its dimensionality.\n",
    "\n",
    "import numpy as np\n",
    "\n",
    "def array_dimension(arr):\n",
    "    return arr.ndim\n",
    "\n",
    "# Example:\n",
    "arr_1d = np.array([1, 2, 3, 4, 5])\n",
    "arr_2d = np.array([[1, 2, 3], [4, 5, 6]])\n",
    "arr_3d = np.array([[[1, 2], [3, 4]], [[5, 6], [7, 8]]])\n",
    "\n",
    "print(\"Dimensionality of arr_1d:\", array_dimension(arr_1d))\n",
    "print(\"Dimensionality of arr_2d:\", array_dimension(arr_2d))\n",
    "print(\"Dimensionality of arr_3d:\", array_dimension(arr_3d))\n"
   ]
  },
  {
   "cell_type": "code",
   "execution_count": 5,
   "id": "d00b6d89-36d7-4b9c-82f1-11f490c8055b",
   "metadata": {},
   "outputs": [
    {
     "name": "stdout",
     "output_type": "stream",
     "text": [
      "Item size (bytes): 8\n",
      "Total size (bytes): 48\n"
     ]
    }
   ],
   "source": [
    "#8. Design a function item_size_info that takes a NumPy array as input and \n",
    "#returns the item size and the total size in bytes.\n",
    "import numpy as np\n",
    "\n",
    "def item_size_info(arr):\n",
    "    item_size = arr.itemsize\n",
    "    total_size = arr.nbytes\n",
    "    return item_size, total_size\n",
    "\n",
    "# Example:\n",
    "arr = np.array([[1, 2, 3], [4, 5, 6]])\n",
    "item_size, total_size = item_size_info(arr)\n",
    "print(\"Item size (bytes):\", item_size)\n",
    "print(\"Total size (bytes):\", total_size)\n"
   ]
  },
  {
   "cell_type": "code",
   "execution_count": 7,
   "id": "819e4399-b981-45f7-86d5-07ebebf5e727",
   "metadata": {},
   "outputs": [
    {
     "name": "stdout",
     "output_type": "stream",
     "text": [
      "Strides: (24, 8)\n"
     ]
    }
   ],
   "source": [
    "#9. Create a function array_strides that takes a NumPy array as input and returns the strides of the array.\n",
    "\n",
    "import numpy as np\n",
    "def  array_strides(arr):\n",
    "    return arr.strides\n",
    "#Example:\n",
    "  \n",
    "arr = np.array([[1,2,3],[4,5,6]])\n",
    "strides = array_strides(arr)\n",
    "print(\"Strides:\", strides)\n"
   ]
  },
  {
   "cell_type": "code",
   "execution_count": 10,
   "id": "cc03055d-9cb4-492a-8e39-d2a0b93287a2",
   "metadata": {},
   "outputs": [
    {
     "name": "stdout",
     "output_type": "stream",
     "text": [
      "Shape: (2, 3)\n",
      "Strides: (24, 8)\n"
     ]
    }
   ],
   "source": [
    "#10. Design a function shape_stride_relationship that takes a NumPy array as input and\n",
    "#returns the shape and strides of the array.\n",
    "\n",
    "import numpy as np\n",
    "def shape_stride_relationship(arr):\n",
    "    return arr.shape, arr.strides\n",
    "arr = np.array([[1,2,3], [4,5,6]])\n",
    "shape, strides = shape_stride_relationship(arr)\n",
    "print(\"Shape:\", shape)\n",
    "print(\"Strides:\",strides)"
   ]
  },
  {
   "cell_type": "code",
   "execution_count": 11,
   "id": "e00d8023-5578-48b0-af9e-316ee21a0651",
   "metadata": {},
   "outputs": [
    {
     "name": "stdout",
     "output_type": "stream",
     "text": [
      "[0. 0. 0.]\n"
     ]
    }
   ],
   "source": [
    "#11. Create a function `create_zeros_array` that takes an integer `n` as input and \n",
    "#returns a NumPy array of zeros with `n` elements.\n",
    "\n",
    "import numpy as np\n",
    "def create_zeros_array(n):\n",
    "    return np.zeros(n)\n",
    "n = 3\n",
    "zeros_array = create_zeros_array(n)\n",
    "print(zeros_array)\n",
    "    "
   ]
  },
  {
   "cell_type": "code",
   "execution_count": 18,
   "id": "a52033a7-30c1-4cd2-991f-0c299bd5554d",
   "metadata": {},
   "outputs": [
    {
     "name": "stdout",
     "output_type": "stream",
     "text": [
      "[[1. 1. 1. 1. 1.]\n",
      " [1. 1. 1. 1. 1.]\n",
      " [1. 1. 1. 1. 1.]]\n"
     ]
    }
   ],
   "source": [
    "#12. Write a function `create_ones_matrix` that takes integers `rows` and `cols` as inputs and generates a 2D\n",
    "#NumPy array filled with ones of size `rows x cols`.\n",
    "\n",
    "import numpy as np\n",
    "def create_ones_matrix(rows,cols):\n",
    "    return np.ones((rows,cols))\n",
    "\n",
    "rows = 3\n",
    "cols = 5\n",
    "ones_matrix = create_ones_matrix(rows,cols)\n",
    "print(ones_matrix)"
   ]
  },
  {
   "cell_type": "code",
   "execution_count": 22,
   "id": "d45270e8-f4ad-4c0c-b6d4-7bf2a1beaaf5",
   "metadata": {},
   "outputs": [
    {
     "name": "stdout",
     "output_type": "stream",
     "text": [
      "[1 3 5 7 9]\n"
     ]
    }
   ],
   "source": [
    "#13. Write a function `generate_range_array` that takes three integers start, stop, and step as arguments and\n",
    "#creates a NumPy array with a range starting from `start`, ending at stop (exclusive), and with the specified\n",
    "#`step`.\n",
    "\n",
    "import numpy as np\n",
    "\n",
    "def generate_range_array(start, stop, step):\n",
    "    return np.arange(start, stop, step)\n",
    "\n",
    "# Example :\n",
    "start = 1\n",
    "stop = 10\n",
    "step = 2\n",
    "range_array = generate_range_array(start, stop, step)\n",
    "print(range_array)\n"
   ]
  },
  {
   "cell_type": "code",
   "execution_count": 23,
   "id": "04c5dfd9-b189-4359-a7c6-afe4715daf74",
   "metadata": {},
   "outputs": [
    {
     "name": "stdout",
     "output_type": "stream",
     "text": [
      "[0.   0.25 0.5  0.75 1.  ]\n"
     ]
    }
   ],
   "source": [
    "#14. Design a function `generate_linear_space` that takes two floats `start`, `stop`, and an integer `num` as\n",
    "#arguments and generates a NumPy array with num equally spaced values between `start` and `stop`\n",
    "#(inclusive).\n",
    "\n",
    "import numpy as np\n",
    "\n",
    "def generate_linear_space(start, stop, num):\n",
    "    return np.linspace(start, stop, num)\n",
    "\n",
    "# Example:\n",
    "start = 0.0\n",
    "stop = 1.0\n",
    "num = 5\n",
    "linear_space_array = generate_linear_space(start, stop, num)\n",
    "print(linear_space_array)\n"
   ]
  },
  {
   "cell_type": "code",
   "execution_count": 24,
   "id": "11b036ff-550c-41d3-920b-d876a6cecfdf",
   "metadata": {},
   "outputs": [
    {
     "name": "stdout",
     "output_type": "stream",
     "text": [
      "[[1. 0. 0.]\n",
      " [0. 1. 0.]\n",
      " [0. 0. 1.]]\n"
     ]
    }
   ],
   "source": [
    "#15. Create a function `create_identity_matrix` that takes an integer `n` as input and generates a square\n",
    "#identity matrix of size `n x n` using `numpy.eye`.\n",
    "\n",
    "import numpy as np\n",
    "\n",
    "def create_identity_matrix(n):\n",
    "    return np.eye(n)\n",
    "\n",
    "# Example:\n",
    "n = 3\n",
    "identity_matrix = create_identity_matrix(n)\n",
    "print(identity_matrix)\n"
   ]
  },
  {
   "cell_type": "code",
   "execution_count": 25,
   "id": "a1951afa-4f7b-4b36-879e-ce0897191260",
   "metadata": {},
   "outputs": [
    {
     "name": "stdout",
     "output_type": "stream",
     "text": [
      "[1 2 3 4 5]\n"
     ]
    }
   ],
   "source": [
    "#16. Write a function that takes a Python list and converts it into a NumPy array.\n",
    "\n",
    "import numpy as np\n",
    "\n",
    "def list_to_array(input_list):\n",
    "    return np.array(input_list)\n",
    "\n",
    "# Example:\n",
    "python_list = [1, 2, 3, 4, 5]\n",
    "numpy_array = list_to_array(python_list)\n",
    "print(numpy_array)\n"
   ]
  },
  {
   "cell_type": "code",
   "execution_count": 26,
   "id": "3941e20b-84c4-4df3-b26d-d3c7ea355720",
   "metadata": {},
   "outputs": [
    {
     "name": "stdout",
     "output_type": "stream",
     "text": [
      "Original array: [10  2  3  4  5]\n",
      "View array: [10  2  3  4  5]\n"
     ]
    }
   ],
   "source": [
    "#17. Create a NumPy array and demonstrate the use of `numpy.view` to create a new array object with the\n",
    "#same data\n",
    "\n",
    "import numpy as np\n",
    "\n",
    "# Create a NumPy array\n",
    "arr = np.array([1, 2, 3, 4, 5])\n",
    "\n",
    "# Use view to create a new array object with the same data\n",
    "arr_view = arr.view()\n",
    "\n",
    "# Modify the view to demonstrate that it's a separate object\n",
    "arr_view[0] = 10\n",
    "\n",
    "# Check the original array\n",
    "print(\"Original array:\", arr)\n",
    "\n",
    "# Check the view array\n",
    "print(\"View array:\", arr_view)\n"
   ]
  },
  {
   "cell_type": "code",
   "execution_count": 27,
   "id": "353feb00-6642-415b-9dd1-c4d734b01659",
   "metadata": {},
   "outputs": [
    {
     "name": "stdout",
     "output_type": "stream",
     "text": [
      "Concatenated along axis 0:\n",
      "[[1 2]\n",
      " [3 4]\n",
      " [5 6]]\n",
      "\n",
      "Concatenated along axis 1:\n",
      "[[1 2 5]\n",
      " [3 4 6]]\n"
     ]
    }
   ],
   "source": [
    "#18. Write a function that takes two NumPy arrays and concatenates them along a specified axis.\n",
    "\n",
    "import numpy as np\n",
    "\n",
    "def concatenate_arrays(arr1, arr2, axis=0):\n",
    "    return np.concatenate((arr1, arr2), axis=axis)\n",
    "\n",
    "# Example:\n",
    "arr1 = np.array([[1, 2], [3, 4]])\n",
    "arr2 = np.array([[5, 6]])\n",
    "\n",
    "# Concatenate along axis 0 (rows)\n",
    "result_axis0 = concatenate_arrays(arr1, arr2, axis=0)\n",
    "print(\"Concatenated along axis 0:\")\n",
    "print(result_axis0)\n",
    "\n",
    "# Concatenate along axis 1 (columns)\n",
    "result_axis1 = concatenate_arrays(arr1, arr2.T, axis=1)\n",
    "print(\"\\nConcatenated along axis 1:\")\n",
    "print(result_axis1)\n"
   ]
  },
  {
   "cell_type": "code",
   "execution_count": 32,
   "id": "403965ff-e730-49e8-aef9-d175cf7f27a1",
   "metadata": {},
   "outputs": [
    {
     "name": "stdout",
     "output_type": "stream",
     "text": [
      "[[ 1  2]\n",
      " [ 3  4]\n",
      " [ 5  6]\n",
      " [ 7  8]\n",
      " [ 9 10]]\n"
     ]
    }
   ],
   "source": [
    "#19. Create two NumPy arrays with different shapes and concatenate them horizontally using `numpy.\n",
    "\n",
    "#concatenate`.\n",
    "\n",
    "import numpy as np\n",
    "\n",
    "# Create two NumPy arrays with different shapes\n",
    "arr1 = np.array([[1, 2], [3, 4]])\n",
    "arr2 = np.array([[5, 6], [7, 8], [9, 10]])\n",
    "\n",
    "# Concatenate them vertically\n",
    "result = np.concatenate((arr1, arr2), axis=0)\n",
    "print(result)\n"
   ]
  },
  {
   "cell_type": "code",
   "execution_count": 33,
   "id": "91127825-a7e1-46db-af1c-ec96af060dd0",
   "metadata": {},
   "outputs": [
    {
     "name": "stdout",
     "output_type": "stream",
     "text": [
      "[[ 1  2]\n",
      " [ 3  4]\n",
      " [ 5  6]\n",
      " [ 7  8]\n",
      " [ 9 10]\n",
      " [11 12]]\n"
     ]
    }
   ],
   "source": [
    "#20. Write a function that vertically stacks multiple NumPy arrays given as a list.\n",
    "\n",
    "import numpy as np\n",
    "\n",
    "def stack_arrays_vertically(arrays):\n",
    "    return np.vstack(arrays)\n",
    "\n",
    "# Example usage\n",
    "arr1 = np.array([[1, 2], [3, 4]])\n",
    "arr2 = np.array([[5, 6], [7, 8]])\n",
    "arr3 = np.array([[9, 10], [11, 12]])\n",
    "\n",
    "stacked_array = stack_arrays_vertically([arr1, arr2, arr3])\n",
    "print(stacked_array)\n"
   ]
  },
  {
   "cell_type": "code",
   "execution_count": 36,
   "id": "6d5983a3-cf48-4a11-aa39-ade07b7bbd96",
   "metadata": {},
   "outputs": [
    {
     "name": "stdout",
     "output_type": "stream",
     "text": [
      "[ 1  3  5  7  9 11]\n"
     ]
    }
   ],
   "source": [
    "#21. Write a Python function using NumPy to create an array of integers within a specified range (inclusive)\n",
    "#with a given step size.\n",
    "\n",
    "import numpy as np\n",
    "\n",
    "def create_range_array(start, stop, step):\n",
    "    return np.arange(start, stop + step, step, dtype=int)\n",
    "\n",
    "start = 1\n",
    "stop = 10\n",
    "step = 2\n",
    "range_array = create_range_array(start, stop, step)\n",
    "print(range_array)\n"
   ]
  },
  {
   "cell_type": "code",
   "execution_count": 37,
   "id": "76d7eb39-d1df-4694-9e0f-d9dbfec96911",
   "metadata": {},
   "outputs": [
    {
     "name": "stdout",
     "output_type": "stream",
     "text": [
      "[0.         0.11111111 0.22222222 0.33333333 0.44444444 0.55555556\n",
      " 0.66666667 0.77777778 0.88888889 1.        ]\n"
     ]
    }
   ],
   "source": [
    "#22. Write a Python function using NumPy to generate an array of 10 equally spaced values between 0 and 1\n",
    "#(inclusive)\n",
    "\n",
    "import numpy as np\n",
    "\n",
    "def generate_equally_spaced_values():\n",
    "    return np.linspace(0, 1, 10)\n",
    "\n",
    "values = generate_equally_spaced_values()\n",
    "print(values)\n"
   ]
  },
  {
   "cell_type": "code",
   "execution_count": 38,
   "id": "8b7ac11c-b2a3-4367-a81c-f74295080624",
   "metadata": {},
   "outputs": [
    {
     "name": "stdout",
     "output_type": "stream",
     "text": [
      "[   1.            5.62341325   31.6227766   177.827941   1000.        ]\n"
     ]
    }
   ],
   "source": [
    "#23. Write a Python function using NumPy to create an array of 5 logarithmically spaced values between 1 and\n",
    "#1000 (inclusive).\n",
    "\n",
    "import numpy as np\n",
    "\n",
    "def generate_logarithmically_spaced_values():\n",
    "    return np.logspace(0, 3, 5)\n",
    "\n",
    "# Example usage\n",
    "values = generate_logarithmically_spaced_values()\n",
    "print(values)\n"
   ]
  },
  {
   "cell_type": "code",
   "execution_count": 39,
   "id": "a9b7bb80-ae63-4f7f-b390-2eb7b0d220bb",
   "metadata": {},
   "outputs": [
    {
     "name": "stdout",
     "output_type": "stream",
     "text": [
      "   Column1  Column2  Column3\n",
      "0       64       17      100\n",
      "1       16       23       32\n",
      "2       70       37        4\n",
      "3       42       29       41\n",
      "4       58       12       86\n"
     ]
    }
   ],
   "source": [
    "#24. Create a Pandas DataFrame using a NumPy array that contains 5 rows and 3 columns, where the values\n",
    "#are random integers between 1 and 100.\n",
    "\n",
    "import numpy as np\n",
    "import pandas as pd\n",
    "\n",
    "# Create a NumPy array with random integers between 1 and 100\n",
    "data = np.random.randint(1, 101, size=(5, 3))\n",
    "\n",
    "# Create a Pandas DataFrame\n",
    "df = pd.DataFrame(data, columns=['Column1', 'Column2', 'Column3'])\n",
    "\n",
    "print(df)\n"
   ]
  },
  {
   "cell_type": "code",
   "execution_count": 41,
   "id": "a66327f2-cbc1-452b-98c4-40769aefe94d",
   "metadata": {},
   "outputs": [
    {
     "name": "stdout",
     "output_type": "stream",
     "text": [
      "Original DataFrame:\n",
      "   A   B\n",
      "0 -1  10\n",
      "1  2 -20\n",
      "2 -3  30\n",
      "3  4 -40\n",
      "4 -5  50\n",
      "\n",
      "DataFrame with negative values in column 'A' replaced with zeros:\n",
      "   A   B\n",
      "0  0  10\n",
      "1  2 -20\n",
      "2  0  30\n",
      "3  4 -40\n",
      "4  0  50\n"
     ]
    }
   ],
   "source": [
    "#25. Write a function that takes a Pandas DataFrame and replaces all negative values in a specific column\n",
    "#with zeros. Use NumPy operations within the Pandas DataFrame\n",
    "\n",
    "import numpy as np\n",
    "import pandas as pd\n",
    "\n",
    "def replace_negative_values(df, column_name):\n",
    "    # Use numpy operations within the DataFrame to replace negative values with zeros\n",
    "    df[column_name] = np.where(df[column_name] < 0, 0, df[column_name])\n",
    "    return df\n",
    "\n",
    "# Example:\n",
    "data = {'A': [-1, 2, -3, 4, -5],\n",
    "        'B': [10, -20, 30, -40, 50]}\n",
    "df = pd.DataFrame(data)\n",
    "\n",
    "print(\"Original DataFrame:\")\n",
    "print(df)\n",
    "\n",
    "# Replace negative values in column 'A' with zeros\n",
    "df = replace_negative_values(df, 'A')\n",
    "\n",
    "print(\"\\nDataFrame with negative values in column 'A' replaced with zeros:\")\n",
    "print(df)\n"
   ]
  },
  {
   "cell_type": "code",
   "execution_count": 44,
   "id": "cd3b31f9-6c58-4b4c-b25b-f6673c3c27b1",
   "metadata": {},
   "outputs": [
    {
     "name": "stdout",
     "output_type": "stream",
     "text": [
      "30\n"
     ]
    }
   ],
   "source": [
    "#26.Access the 3rd element from the given NumPy array.\n",
    "#arr = np.array([10, 20, 30, 40, 50])\n",
    "\n",
    "import numpy as np\n",
    "arr = np.array([10,20,30,40,50])\n",
    "\n",
    "third_element = arr[2]\n",
    "print(third_element)"
   ]
  },
  {
   "cell_type": "code",
   "execution_count": 45,
   "id": "10392d46-51c6-4f32-bb61-57768d26a5c7",
   "metadata": {},
   "outputs": [
    {
     "name": "stdout",
     "output_type": "stream",
     "text": [
      "6\n"
     ]
    }
   ],
   "source": [
    "#27. Retrieve the element at index (1, 2) from the 2D NumPy array.\n",
    "#arr_2d = np.array([[1, 2, 3],\n",
    "                  # [4, 5, 6],\n",
    "                  # [7, 8, 9]])\n",
    "\n",
    "import numpy as np\n",
    "\n",
    "arr_2d = np.array([[1, 2, 3],\n",
    "                    [4, 5, 6],\n",
    "                    [7, 8, 9]])\n",
    "\n",
    "element_12 = arr_2d[1, 2]\n",
    "print(element_12)\n",
    "      \n"
   ]
  },
  {
   "cell_type": "code",
   "execution_count": 46,
   "id": "ed71a383-1c48-4920-8819-7504cadb2de4",
   "metadata": {},
   "outputs": [
    {
     "name": "stdout",
     "output_type": "stream",
     "text": [
      "[ 8 10  7]\n"
     ]
    }
   ],
   "source": [
    "#28. Using boolean indexing, extract elements greater than 5 from the given NumPy array.\n",
    "#arr = np.array([3, 8, 2, 10, 5, 7])\n",
    "\n",
    "import numpy as np\n",
    "arr = np.array([3, 8, 2, 10, 5, 7])\n",
    "\n",
    "# Create a boolean mask of elements greater than 5\n",
    "mask = arr > 5\n",
    "\n",
    "# Use the mask to extract elements greater than 5\n",
    "result = arr[mask]\n",
    "\n",
    "print(result)\n"
   ]
  },
  {
   "cell_type": "code",
   "execution_count": 47,
   "id": "1c4debf2-1c17-423a-be9a-59e2b966e163",
   "metadata": {},
   "outputs": [
    {
     "name": "stdout",
     "output_type": "stream",
     "text": [
      "[3 4 5 6]\n"
     ]
    }
   ],
   "source": [
    "#29. Perform basic slicing to extract elements from index 2 to 5 (inclusive) from the given NumPy array.\n",
    "#arr = np.array([1, 2, 3, 4, 5, 6, 7, 8, 9])\n",
    "\n",
    "import numpy as np\n",
    "\n",
    "arr = np.array([1, 2, 3, 4, 5, 6, 7, 8, 9])\n",
    "\n",
    "# Perform basic slicing to extract elements from index 2 to 5 (inclusive)\n",
    "result = arr[2:6]\n",
    "\n",
    "print(result)\n"
   ]
  },
  {
   "cell_type": "code",
   "execution_count": 48,
   "id": "95d78328-6ec8-43ec-bb75-6583bf5efe23",
   "metadata": {},
   "outputs": [
    {
     "name": "stdout",
     "output_type": "stream",
     "text": [
      "[[2 3]\n",
      " [5 6]]\n"
     ]
    }
   ],
   "source": [
    "#30. Slice the 2D NumPy array to extract the sub-array `[[2, 3], [5, 6]]` from the given array.\n",
    "#arr_2d = np.array([[1, 2, 3],\n",
    "                  # [4, 5, 6],\n",
    "                   #[7, 8, 9]])\n",
    "        \n",
    "import numpy as np\n",
    "\n",
    "arr_2d = np.array([[1, 2, 3],\n",
    "                    [4, 5, 6],\n",
    "                    [7, 8, 9]])\n",
    "\n",
    "# Slice the 2D array to extract the sub-array [[2, 3], [5, 6]]\n",
    "sub_array = arr_2d[0:2, 1:3]\n",
    "\n",
    "print(sub_array)\n",
    "    "
   ]
  },
  {
   "cell_type": "code",
   "execution_count": 50,
   "id": "87b839ed-0825-4640-bf01-4c48ec8b4516",
   "metadata": {},
   "outputs": [
    {
     "name": "stdout",
     "output_type": "stream",
     "text": [
      "[[1 2 3]\n",
      " [7 8 9]\n",
      " [4 5 6]\n",
      " [7 8 9]]\n"
     ]
    }
   ],
   "source": [
    "#31.Write a NumPy function to extract elements in specific order from a given 2D array based on indices\n",
    "#provided in another array\n",
    "\n",
    "import numpy as np\n",
    "\n",
    "def extract_elements_2d(arr, indices):\n",
    "    return arr[indices]\n",
    "\n",
    "# Example:\n",
    "arr_2d = np.array([[1, 2, 3],\n",
    "                    [4, 5, 6],\n",
    "                    [7, 8, 9]])\n",
    "\n",
    "indices = np.array([0, 2, 1, 2])  # Example indices to extract elements from each row\n",
    "\n",
    "result = extract_elements_2d(arr_2d, indices)\n",
    "print(result)\n"
   ]
  },
  {
   "cell_type": "code",
   "execution_count": 51,
   "id": "d44dd41b-f91b-4acd-98cf-da25271a58b2",
   "metadata": {},
   "outputs": [
    {
     "name": "stdout",
     "output_type": "stream",
     "text": [
      "[15 20]\n"
     ]
    }
   ],
   "source": [
    "#32. Create a NumPy function that filters elements greater than a threshold from a given 1D array using\n",
    "#boolean indexing.\n",
    "\n",
    "import numpy as np\n",
    "\n",
    "def filter_elements(array, threshold):\n",
    "    \"\"\"\n",
    "    Filters elements greater than a threshold from a given 1D array using boolean indexing.\n",
    "\n",
    "    Parameters:\n",
    "        array (numpy.ndarray): Input 1D array.\n",
    "        threshold (float): Threshold value for filtering.\n",
    "\n",
    "    Returns:\n",
    "        numpy.ndarray: Filtered array.\n",
    "    \"\"\"\n",
    "    filtered_array = array[array > threshold]\n",
    "    return filtered_array\n",
    "\n",
    "# Example:\n",
    "array = np.array([1, 5, 10, 15, 20])\n",
    "threshold = 10\n",
    "filtered_result = filter_elements(array, threshold)\n",
    "print(filtered_result)  # Output: [15 20]\n"
   ]
  },
  {
   "cell_type": "code",
   "execution_count": 52,
   "id": "a1e2b01a-098e-4c37-9c95-c5005ee95a5d",
   "metadata": {},
   "outputs": [
    {
     "name": "stdout",
     "output_type": "stream",
     "text": [
      "[6 7 6]\n"
     ]
    }
   ],
   "source": [
    "#33. Develop a NumPy function that extracts specific elements from a 3D array using indices provided in three\n",
    "#separate arrays for each dimension.\n",
    "\n",
    "import numpy as np\n",
    "\n",
    "def extract_elements_3d(array, indices_dim1, indices_dim2, indices_dim3):\n",
    "    \"\"\"\n",
    "    Extracts specific elements from a 3D array using indices provided in three separate arrays\n",
    "    for each dimension.\n",
    "\n",
    "    Parameters:\n",
    "        array (numpy.ndarray): Input 3D array.\n",
    "        indices_dim1 (numpy.ndarray): Array of indices for the first dimension.\n",
    "        indices_dim2 (numpy.ndarray): Array of indices for the second dimension.\n",
    "        indices_dim3 (numpy.ndarray): Array of indices for the third dimension.\n",
    "\n",
    "    Returns:\n",
    "        numpy.ndarray: Extracted elements.\n",
    "    \"\"\"\n",
    "    extracted_elements = array[indices_dim1, indices_dim2, indices_dim3]\n",
    "    return extracted_elements\n",
    "\n",
    "# Example:\n",
    "array_3d = np.random.randint(0, 10, size=(3, 4, 5))  # Example 3D array\n",
    "indices_dim1 = np.array([0, 1, 2])\n",
    "indices_dim2 = np.array([1, 2, 3])\n",
    "indices_dim3 = np.array([2, 3, 4])\n",
    "extracted_result = extract_elements_3d(array_3d, indices_dim1, indices_dim2, indices_dim3)\n",
    "print(extracted_result)\n"
   ]
  },
  {
   "cell_type": "code",
   "execution_count": 53,
   "id": "75a8d679-5519-4e88-9983-617d62b68c73",
   "metadata": {},
   "outputs": [
    {
     "name": "stdout",
     "output_type": "stream",
     "text": [
      "[10 20]\n"
     ]
    }
   ],
   "source": [
    "#34. Write a NumPy function that returns elements from an array where both two conditions are satisfied\n",
    "#using boolean indexing.\n",
    "\n",
    "import numpy as np\n",
    "\n",
    "def satisfy_both_conditions(array, condition1, condition2):\n",
    "    \"\"\"\n",
    "    Returns elements from an array where both two conditions are satisfied using boolean indexing.\n",
    "\n",
    "    Parameters:\n",
    "        array (numpy.ndarray): Input array.\n",
    "        condition1 (numpy.ndarray): First boolean condition.\n",
    "        condition2 (numpy.ndarray): Second boolean condition.\n",
    "\n",
    "    Returns:\n",
    "        numpy.ndarray: Elements satisfying both conditions.\n",
    "    \"\"\"\n",
    "    satisfying_elements = array[np.logical_and(condition1, condition2)]\n",
    "    return satisfying_elements\n",
    "\n",
    "# Example usage:\n",
    "array = np.array([1, 5, 10, 15, 20])\n",
    "condition1 = array > 5\n",
    "condition2 = array % 2 == 0\n",
    "result = satisfy_both_conditions(array, condition1, condition2)\n",
    "print(result)  # Output: [10 20]\n"
   ]
  },
  {
   "cell_type": "code",
   "execution_count": 54,
   "id": "ce81e641-abca-4da6-b8cd-253ad9dc3e87",
   "metadata": {},
   "outputs": [
    {
     "name": "stdout",
     "output_type": "stream",
     "text": [
      "[2 6 7]\n"
     ]
    }
   ],
   "source": [
    "#35. Create a NumPy function that extracts elements from a 2D array using row and column indices provided\n",
    "#in separate arrays.\n",
    "\n",
    "import numpy as np\n",
    "\n",
    "def extract_elements_2d(array, row_indices, col_indices):\n",
    "    \"\"\"\n",
    "    Extracts elements from a 2D array using row and column indices provided in separate arrays.\n",
    "\n",
    "    Parameters:\n",
    "        array (numpy.ndarray): Input 2D array.\n",
    "        row_indices (numpy.ndarray): Array of row indices.\n",
    "        col_indices (numpy.ndarray): Array of column indices.\n",
    "\n",
    "    Returns:\n",
    "        numpy.ndarray: Extracted elements.\n",
    "    \"\"\"\n",
    "    extracted_elements = array[row_indices, col_indices]\n",
    "    return extracted_elements\n",
    "\n",
    "# Example:\n",
    "array_2d = np.array([[1, 2, 3],\n",
    "                      [4, 5, 6],\n",
    "                      [7, 8, 9]])\n",
    "row_indices = np.array([0, 1, 2])\n",
    "col_indices = np.array([1, 2, 0])\n",
    "extracted_result = extract_elements_2d(array_2d, row_indices, col_indices)\n",
    "print(extracted_result)\n"
   ]
  },
  {
   "cell_type": "code",
   "execution_count": 55,
   "id": "3879ffd9-d2ae-44a2-a0d2-666fcc76dc95",
   "metadata": {},
   "outputs": [
    {
     "name": "stdout",
     "output_type": "stream",
     "text": [
      "[[ 6  7  8]\n",
      " [ 9 10 11]\n",
      " [12 13 14]]\n"
     ]
    }
   ],
   "source": [
    "#36. Given an array arr of shape (3, 3), add a scalar value of 5 to each element using NumPy broadcasting.\n",
    "\n",
    "import numpy as np\n",
    "\n",
    "# Given array\n",
    "arr = np.array([[1, 2, 3],\n",
    "                [4, 5, 6],\n",
    "                [7, 8, 9]])\n",
    "\n",
    "# Add scalar value of 5 to each element using broadcasting\n",
    "result = arr + 5\n",
    "\n",
    "print(result)\n"
   ]
  },
  {
   "cell_type": "code",
   "execution_count": 7,
   "id": "1c7882a1-65ab-48c5-aa6f-444e8ae0949d",
   "metadata": {},
   "outputs": [
    {
     "name": "stdout",
     "output_type": "stream",
     "text": [
      "[[ 1.  2.  3.  4.]\n",
      " [10. 12. 14. 16.]\n",
      " [27. 30. 33. 36.]]\n"
     ]
    }
   ],
   "source": [
    "#37. Consider two arrays arr1 of shape (1, 3) and arr2 of shape (3, 4). Multiply each row of arr2 by the\n",
    "#corresponding element in arr1 using NumPy broadcasting.\n",
    "\n",
    "import numpy as np\n",
    "\n",
    "arr1 = np.array([[1, 2, 3]])\n",
    "arr2 = np.array([[1, 2, 3, 4], [5, 6, 7, 8], [9, 10, 11, 12]])\n",
    "\n",
    "result = np.zeros((3, 4))\n",
    "\n",
    "for i in range(3):\n",
    "    result[i] = arr1[0][i] * arr2[i]\n",
    "\n",
    "print(result)\n",
    "\n",
    "\n"
   ]
  },
  {
   "cell_type": "code",
   "execution_count": 8,
   "id": "5632f269-d16a-4585-a055-74ef34aee9dc",
   "metadata": {},
   "outputs": [
    {
     "name": "stdout",
     "output_type": "stream",
     "text": [
      "[[ 11  21  31]\n",
      " [ 42  52  62]\n",
      " [ 73  83  93]\n",
      " [104 114 124]]\n"
     ]
    }
   ],
   "source": [
    "#38. Given a 1D array arr1 of shape (1, 4) and a 2D array arr2 of shape (4, 3), add arr1 to each row of arr2 using\n",
    "#NumPy broadcasting.\n",
    "\n",
    "import numpy as np\n",
    "\n",
    "arr1 = np.array([1, 2, 3, 4])\n",
    "arr2 = np.array([[10, 20, 30], [40, 50, 60], [70, 80, 90], [100, 110, 120]])\n",
    "\n",
    "result = arr1[:, np.newaxis] + arr2\n",
    "\n",
    "print(result)"
   ]
  },
  {
   "cell_type": "code",
   "execution_count": 9,
   "id": "c7ecc6e6-fcf9-4199-b8c2-e08603169250",
   "metadata": {},
   "outputs": [
    {
     "name": "stdout",
     "output_type": "stream",
     "text": [
      "[[5 6 7]\n",
      " [6 7 8]\n",
      " [7 8 9]]\n"
     ]
    }
   ],
   "source": [
    "#39. Consider two arrays arr1 of shape (3, 1) and arr2 of shape (1, 3). Add these arrays using NumPy\n",
    "#broadcasting.\n",
    "\n",
    "import numpy as np\n",
    "\n",
    "# Define the arrays\n",
    "arr1 = np.array([[1], [2], [3]])\n",
    "arr2 = np.array([[4, 5, 6]])\n",
    "\n",
    "# Add the arrays using broadcasting\n",
    "result = arr1 + arr2\n",
    "\n",
    "print(result)"
   ]
  },
  {
   "cell_type": "code",
   "execution_count": 13,
   "id": "b9e72b30-c9fb-47f9-87ef-9b34a8077c76",
   "metadata": {},
   "outputs": [],
   "source": [
    "#40. Given arrays arr1 of shape (2, 3) and arr2 of shape (2, 2), perform multiplication using NumPy\n",
    "#broadcasting. Handle the shape incompatibility.\n",
    "\n",
    "import numpy as np\n",
    "\n",
    "# Define the arrays\n",
    "arr1 = np.array([[1, 2, 3],\n",
    "                 [4, 5, 6]])\n",
    "\n",
    "arr2 = np.array([[[1, 2],\n",
    "                  [3, 4]],\n",
    "\n",
    "                 [[5, 6],\n",
    "                  [7, 8]]])\n",
    "\n",
    "# Add a new axis to arr1\n",
    "arr1_broadcasted = arr1[:, np.newaxis, np.newaxis, :]\n",
    "\n",
    "# Perform multiplication using broadcasting\n",
    "result = arr1_broadcasted * arr2\n",
    "\n",
    "print(\"Result:\\n\", result)"
   ]
  },
  {
   "cell_type": "code",
   "execution_count": 14,
   "id": "7e04ff72-51a3-422c-a894-365087135d93",
   "metadata": {},
   "outputs": [
    {
     "name": "stdout",
     "output_type": "stream",
     "text": [
      "Column-wise mean:\n",
      " [2.5 3.5 4.5]\n"
     ]
    }
   ],
   "source": [
    "#41. Calculate column wise mean for the given array:\n",
    "#arr = np.array([[1, 2, 3], [4, 5, 6]])\n",
    "\n",
    "import numpy as np\n",
    "\n",
    "# Define the array\n",
    "arr = np.array([[1, 2, 3],\n",
    "                [4, 5, 6]])\n",
    "\n",
    "# Calculate the column-wise mean\n",
    "column_wise_mean = np.mean(arr, axis=0)\n",
    "\n",
    "print(\"Column-wise mean:\\n\", column_wise_mean)\n"
   ]
  },
  {
   "cell_type": "code",
   "execution_count": 15,
   "id": "c4f8d4db-9efb-4b6e-add8-584b25a23c68",
   "metadata": {},
   "outputs": [
    {
     "name": "stdout",
     "output_type": "stream",
     "text": [
      "Maximum values in each row:\n",
      " [3 6]\n"
     ]
    }
   ],
   "source": [
    "#42. Find maximum value in each row of the given array:\n",
    "#arr = np.array([[1, 2, 3], [4, 5, 6]])\n",
    "\n",
    "import numpy as np\n",
    "\n",
    "# Define the array\n",
    "arr = np.array([[1, 2, 3],\n",
    "                [4, 5, 6]])\n",
    "\n",
    "# Calculate the maximum value in each row\n",
    "row_wise_max = np.max(arr, axis=1)\n",
    "\n",
    "print(\"Maximum values in each row:\\n\", row_wise_max)\n"
   ]
  },
  {
   "cell_type": "code",
   "execution_count": 16,
   "id": "a1d527bd-578d-460c-8e18-3bd82f57915c",
   "metadata": {},
   "outputs": [
    {
     "name": "stdout",
     "output_type": "stream",
     "text": [
      "Indices of maximum values in each column:\n",
      " [2 2]\n"
     ]
    }
   ],
   "source": [
    "#43. For the given array, find indices of maximum value in each column.\n",
    "#arr = np.array([[1, 2, 3], [4, 5, 6]])\n",
    "\n",
    "import numpy as np\n",
    "\n",
    "# Define the array\n",
    "arr = np.array([[1, 2, 3],\n",
    "                [4, 5, 6]])\n",
    "\n",
    "# Calculate the index of the maximum value in each column\n",
    "column_wise_max_index = np.argmax(arr, axis=1)\n",
    "\n",
    "print(\"Indices of maximum values in each column:\\n\", column_wise_max_index)"
   ]
  },
  {
   "cell_type": "code",
   "execution_count": 18,
   "id": "125f9396-4037-4487-8a0d-7628a812d069",
   "metadata": {},
   "outputs": [
    {
     "name": "stdout",
     "output_type": "stream",
     "text": [
      "Row-wise moving sum:\n",
      " [[1.5 2.5]\n",
      " [4.5 5.5]]\n"
     ]
    }
   ],
   "source": [
    "#44. For the given array, apply custom function to calculate moving sum along rows.\n",
    "#arr = np.array([[1, 2, 3], [4, 5, 6]])\n",
    "\n",
    "import numpy as np\n",
    "\n",
    "# Define the array\n",
    "arr = np.array([[1, 2, 3],\n",
    "                [4, 5, 6]])\n",
    "\n",
    "# Define the custom moving sum function\n",
    "def moving_sum(row, window_size):\n",
    "    return np.convolve(row, np.ones(window_size), 'valid') / window_size\n",
    "\n",
    "# Apply the custom function along rows\n",
    "row_wise_moving_sum = np.apply_along_axis(func1d=moving_sum, axis=1, arr=arr, window_size=2)\n",
    "\n",
    "print(\"Row-wise moving sum:\\n\", row_wise_moving_sum)\n"
   ]
  },
  {
   "cell_type": "code",
   "execution_count": 20,
   "id": "fd5b1b52-1585-46cb-acfc-a69879add7cf",
   "metadata": {},
   "outputs": [
    {
     "name": "stdout",
     "output_type": "stream",
     "text": [
      "Not all elements in each column are even.\n"
     ]
    }
   ],
   "source": [
    "#45. In the given array, check if all elements in each column are even.\n",
    "#arr = np.array([[2, 4, 6], [3, 5, 7]])\n",
    "\n",
    "import numpy as np\n",
    "\n",
    "arr = np.array([[2, 4, 6], [3, 5, 7]])\n",
    "\n",
    "# Check if all elements in each column are even\n",
    "if np.all(np.all(arr % 2 == 0, axis=0)):\n",
    "    print(\"All elements in each column are even.\")\n",
    "else:\n",
    "    print(\"Not all elements in each column are even.\")"
   ]
  },
  {
   "cell_type": "code",
   "execution_count": 21,
   "id": "3e1fa106-3432-4c10-aae1-503c047f3a6e",
   "metadata": {},
   "outputs": [
    {
     "name": "stdout",
     "output_type": "stream",
     "text": [
      "Reshaped matrix:\n",
      " [[1 2 3]\n",
      " [4 5 6]]\n"
     ]
    }
   ],
   "source": [
    "#46. Given a NumPy array arr, reshape it into a matrix of dimensions `m` rows and `n` columns. Return the\n",
    "#reshaped matrix.\n",
    "#original_array = np.array([1, 2, 3, 4, 5, 6])\n",
    "\n",
    "import numpy as np\n",
    "\n",
    "original_array = np.array([1, 2, 3, 4, 5, 6])\n",
    "m = 2\n",
    "n = 3\n",
    "\n",
    "reshaped_matrix = np.reshape(original_array, (m, n))\n",
    "\n",
    "print(\"Reshaped matrix:\\n\", reshaped_matrix)"
   ]
  },
  {
   "cell_type": "code",
   "execution_count": 22,
   "id": "b76f10b8-d04a-48a4-a790-5bff71a4a4bd",
   "metadata": {},
   "outputs": [
    {
     "name": "stdout",
     "output_type": "stream",
     "text": [
      "Flattened array: [1 2 3 4 5 6]\n"
     ]
    }
   ],
   "source": [
    "#47. Create a function that takes a matrix as input and returns the flattened array.\n",
    "#input_matrix = np.array([[1, 2, 3], [4, 5, 6]])\n",
    "\n",
    "import numpy as np\n",
    "\n",
    "def flatten_matrix(input_matrix):\n",
    "    return np.ravel(input_matrix)\n",
    "\n",
    "input_matrix = np.array([[1, 2, 3], [4, 5, 6]])\n",
    "\n",
    "flattened_array = flatten_matrix(input_matrix)\n",
    "\n",
    "print(\"Flattened array:\", flattened_array)"
   ]
  },
  {
   "cell_type": "code",
   "execution_count": 23,
   "id": "452cda08-ca8f-47b6-a79e-4ce997452fc9",
   "metadata": {},
   "outputs": [
    {
     "name": "stdout",
     "output_type": "stream",
     "text": [
      "Concatenated array (axis=0):\n",
      " [[1 2]\n",
      " [3 4]\n",
      " [5 6]\n",
      " [7 8]]\n",
      "Concatenated array (axis=1):\n",
      " [[1 2 5 6]\n",
      " [3 4 7 8]]\n"
     ]
    }
   ],
   "source": [
    "#48. Write a function that concatenates two given arrays along a specified axis.\n",
    "#array1 = np.array([[1, 2], [3, 4]])\n",
    "#array2 = np.array([[5, 6], [7, 8]])\n",
    "\n",
    "import numpy as np\n",
    "\n",
    "def concatenate_arrays(array1, array2, axis):\n",
    "    return np.concatenate((array1, array2), axis=axis)\n",
    "\n",
    "array1 = np.array([[1, 2], [3, 4]])\n",
    "array2 = np.array([[5, 6], [7, 8]])\n",
    "\n",
    "concatenated_array = concatenate_arrays(array1, array2, axis=0)\n",
    "\n",
    "print(\"Concatenated array (axis=0):\\n\", concatenated_array)\n",
    "\n",
    "concatenated_array = concatenate_arrays(array1, array2, axis=1)\n",
    "\n",
    "print(\"Concatenated array (axis=1):\\n\", concatenated_array)"
   ]
  },
  {
   "cell_type": "code",
   "execution_count": 26,
   "id": "41e06e18-a694-47cd-9b35-fbbc9e745611",
   "metadata": {},
   "outputs": [
    {
     "name": "stdout",
     "output_type": "stream",
     "text": [
      "Splitted arrays (axis=0):\n",
      " [array([[1, 2, 3],\n",
      "       [4, 5, 6]]), array([[7, 8, 9],\n",
      "       [0, 0, 0]])]\n",
      "Splitted arrays (axis=1):\n",
      " [array([[1],\n",
      "       [4],\n",
      "       [7]]), array([[2],\n",
      "       [5],\n",
      "       [8]]), array([[3],\n",
      "       [6],\n",
      "       [9]])]\n"
     ]
    }
   ],
   "source": [
    "#49. Create a function that splits an array into multiple sub-arrays along a specified axis\n",
    "#original_array = np.array([[1, 2, 3], [4, 5, 6], [7, 8, 9]])\n",
    "\n",
    "import numpy as np\n",
    "\n",
    "def split_array(original_array, split_count, axis):\n",
    "    shape = list(original_array.shape)\n",
    "    shape[axis] = int(np.ceil(shape[axis] / split_count)) * split_count\n",
    "    new_array = np.zeros(shape, dtype=original_array.dtype)\n",
    "    new_array[:original_array.shape[0], :original_array.shape[1]] = original_array\n",
    "    return np.split(new_array, split_count, axis=axis)\n",
    "\n",
    "original_array = np.array([[1, 2, 3], [4, 5, 6], [7, 8, 9]])\n",
    "\n",
    "split_arrays = split_array(original_array, split_count=2, axis=0)\n",
    "\n",
    "print(\"Splitted arrays (axis=0):\\n\", split_arrays)\n",
    "\n",
    "split_arrays = split_array(original_array, split_count=3, axis=1)\n",
    "\n",
    "print(\"Splitted arrays (axis=1):\\n\", split_arrays)"
   ]
  },
  {
   "cell_type": "code",
   "execution_count": 29,
   "id": "7a3f1167-f06a-4372-a6fc-2ff0970ae096",
   "metadata": {},
   "outputs": [
    {
     "name": "stdout",
     "output_type": "stream",
     "text": [
      "Result array: \n",
      " [ 1 10 11  4  5]\n"
     ]
    }
   ],
   "source": [
    "#50. Write a function that inserts and then deletes elements from a given array at specified indices.\n",
    "#original_array = np.array([1, 2, 3, 4, 5])\n",
    "#indices_to_insert = [2, 4]\n",
    "#values_to_insert = [10, 11]\n",
    "#indices_to_delete = [1, 3]\n",
    "\n",
    "import numpy as np\n",
    "\n",
    "def insert_and_delete_elements(original_array, indices_to_insert, values_to_insert, indices_to_delete):\n",
    "    # Insert elements at specified indices\n",
    "    for index, value in zip(indices_to_insert, values_to_insert):\n",
    "        original_array = np.insert(original_array, index, value)\n",
    "\n",
    "    # Delete elements at specified indices\n",
    "    for index in sorted(indices_to_delete, reverse=True):\n",
    "        original_array = np.delete(original_array, index)\n",
    "\n",
    "    return original_array\n",
    "\n",
    "original_array = np.array([1, 2, 3, 4, 5])\n",
    "indices_to_insert = [2, 4]\n",
    "values_to_insert = [10, 11]\n",
    "indices_to_delete = [1, 3]\n",
    "\n",
    "result = insert_and_delete_elements(original_array, indices_to_insert, values_to_insert, indices_to_delete)\n",
    "\n",
    "print(\"Result array: \\n\", result)"
   ]
  },
  {
   "cell_type": "code",
   "execution_count": 79,
   "id": "b5344013-748b-4a6e-9fbe-10370150d146",
   "metadata": {},
   "outputs": [
    {
     "name": "stdout",
     "output_type": "stream",
     "text": [
      "arr1: [ 2 90 19 40 57 49  2 97 93 32]\n",
      "arr2: [ 1  2  3  4  5  6  7  8  9 10]\n",
      "Result of element-wise addition: [  3  92  22  44  62  55   9 105 102  42]\n"
     ]
    }
   ],
   "source": [
    "#51. Create a NumPy array `arr1` with random integers and another array `arr2` with integers from 1 to 10.\n",
    "#Perform element-wise addition between `arr1` and `arr2`.\n",
    "\n",
    "import numpy as np\n",
    "\n",
    "# Create arr1 with random integers\n",
    "arr1 = np.random.randint(1, 100, size=10)\n",
    "\n",
    "# Create arr2 with integers from 1 to 10\n",
    "arr2 = np.arange(1, 11)\n",
    "\n",
    "# Perform element-wise addition between arr1 and arr2\n",
    "result = arr1 + arr2\n",
    "\n",
    "# Print the original arrays and the result of element-wise addition\n",
    "print(\"arr1:\", arr1)\n",
    "print(\"arr2:\", arr2)\n",
    "print(\"Result of element-wise addition:\", result)\n"
   ]
  },
  {
   "cell_type": "code",
   "execution_count": 38,
   "id": "faebe483-6a1f-44bf-84d3-374e4aff08b2",
   "metadata": {},
   "outputs": [
    {
     "name": "stdout",
     "output_type": "stream",
     "text": [
      "Array `arr1`:\n",
      " [10  9  8  7  6  5  4  3  2  1]\n",
      "Array `arr2`:\n",
      " [ 1  2  3  4  5  6  7  8  9 10]\n",
      "Result of element-wise subtraction:\n",
      " [ 9  7  5  3  1 -1 -3 -5 -7 -9]\n"
     ]
    }
   ],
   "source": [
    "#52. Generate a NumPy array `arr1` with sequential integers from 10 to 1 and another array `arr2` with integers\n",
    "#from 1 to 10. Subtract `arr2` from `arr1` element-wise.\n",
    "\n",
    "import numpy as np\n",
    "\n",
    "# Create a NumPy array `arr1` with sequential integers from 10 to 1\n",
    "arr1 = np.arange(10, 0, -1)\n",
    "\n",
    "# Create a NumPy array `arr2` with integers from 1 to 10\n",
    "arr2 = np.arange(1, 11)\n",
    "\n",
    "# Perform element-wise subtraction between `arr1` and `arr2`\n",
    "result = arr1 - arr2\n",
    "\n",
    "print(\"Array `arr1`:\\n\", arr1)\n",
    "print(\"Array `arr2`:\\n\", arr2)\n",
    "print(\"Result of element-wise subtraction:\\n\", result)"
   ]
  },
  {
   "cell_type": "code",
   "execution_count": 41,
   "id": "b8f151ed-6d1e-40d3-b5be-91820f75b56a",
   "metadata": {},
   "outputs": [
    {
     "name": "stdout",
     "output_type": "stream",
     "text": [
      "Array `arr1`:\n",
      " [[2 4 8 8 5]\n",
      " [8 3 6 7 4]\n",
      " [8 9 4 8 7]\n",
      " [8 2 3 3 1]\n",
      " [1 6 3 1 5]]\n",
      "Array `arr2`:\n",
      " [[1 1 1 1 1]\n",
      " [2 2 2 2 2]\n",
      " [3 3 3 3 3]\n",
      " [4 4 4 4 4]\n",
      " [5 5 5 5 5]]\n",
      "Result of element-wise multiplication:\n",
      " [[ 2  4  8  8  5]\n",
      " [16  6 12 14  8]\n",
      " [24 27 12 24 21]\n",
      " [32  8 12 12  4]\n",
      " [ 5 30 15  5 25]]\n"
     ]
    }
   ],
   "source": [
    "#53. Create a NumPy array `arr1` with random integers and another array `arr2` with integers from 1 to 5.\n",
    "#Perform element-wise multiplication between `arr1` and `arr2`.\n",
    "\n",
    "import numpy as np\n",
    "\n",
    "# Create a NumPy array `arr1` with random integers\n",
    "arr1 = np.random.randint(1, 10, size=(5, 5))\n",
    "\n",
    "# Create a NumPy array `arr2` with integers from 1 to 5\n",
    "arr2 = np.arange(1, 6)\n",
    "\n",
    "# Repeat `arr2` along the first axis to match the shape of `arr1`\n",
    "arr2 = np.repeat(arr2[:, None], arr1.shape[1], axis=1)\n",
    "\n",
    "# Perform element-wise multiplication between `arr1` and `arr2`\n",
    "result = arr1 * arr2\n",
    "\n",
    "print(\"Array `arr1`:\\n\", arr1)\n",
    "print(\"Array `arr2`:\\n\", arr2)\n",
    "print(\"Result of element-wise multiplication:\\n\", result)\n"
   ]
  },
  {
   "cell_type": "code",
   "execution_count": 42,
   "id": "44bb4a7d-0ea9-4376-8b09-fe9bcc7c18a3",
   "metadata": {},
   "outputs": [
    {
     "name": "stdout",
     "output_type": "stream",
     "text": [
      "arr1:\n",
      "[ 2  4  6  8 10]\n",
      "\n",
      "arr2:\n",
      "[1 2 3 4 5]\n",
      "\n",
      "Result of element-wise division:\n",
      "[2. 2. 2. 2. 2.]\n"
     ]
    }
   ],
   "source": [
    "#54. Generate a NumPy array `arr1` with even integers from 2 to 10 and another array `arr2` with integers from 1\n",
    "#to 5. Perform element-wise division of `arr1` by `arr2`.\n",
    "\n",
    "import numpy as np\n",
    "\n",
    "# Create arr1 with even integers from 2 to 10\n",
    "arr1 = np.arange(2, 10+1, 2)\n",
    "\n",
    "# Create arr2 with integers from 1 to 5\n",
    "arr2 = np.arange(1, 5+1)\n",
    "\n",
    "# Perform element-wise division\n",
    "result = arr1 / arr2\n",
    "\n",
    "# Print the result\n",
    "print(\"arr1:\")\n",
    "print(arr1)\n",
    "print(\"\\narr2:\")\n",
    "print(arr2)\n",
    "print(\"\\nResult of element-wise division:\")\n",
    "print(result)\n"
   ]
  },
  {
   "cell_type": "code",
   "execution_count": 43,
   "id": "24c4f009-6736-40e1-83b0-9ee7416cf1b6",
   "metadata": {},
   "outputs": [
    {
     "name": "stdout",
     "output_type": "stream",
     "text": [
      "arr1: [1 2 3 4 5]\n",
      "arr2: [5 4 3 2 1]\n",
      "Result of element-wise exponentiation: [ 1 16 27 16  5]\n"
     ]
    }
   ],
   "source": [
    "#55. Create a NumPy array `arr1` with integers from 1 to 5 and another array `arr2` with the same numbers\n",
    "#reversed. Calculate the exponentiation of `arr1` raised to the power of `arr2` element-wise.\n",
    "import numpy as np\n",
    "\n",
    "# Create arr1 with integers from 1 to 5\n",
    "arr1 = np.arange(1, 5+1)\n",
    "\n",
    "# Create arr2 with the same numbers reversed\n",
    "arr2 = arr1[::-1]\n",
    "\n",
    "# Calculate the exponentiation of arr1 raised to the power of arr2 element-wise\n",
    "result = np.power(arr1, arr2)\n",
    "\n",
    "# Print the result\n",
    "print(\"arr1:\", arr1)\n",
    "print(\"arr2:\", arr2)\n",
    "print(\"Result of element-wise exponentiation:\", result)\n",
    "\n"
   ]
  },
  {
   "cell_type": "code",
   "execution_count": 44,
   "id": "449959b5-f1f6-4048-9293-2e4a2d738896",
   "metadata": {},
   "outputs": [
    {
     "name": "stdout",
     "output_type": "stream",
     "text": [
      "Occurrences of 'hello' in the array: 3\n"
     ]
    }
   ],
   "source": [
    "#56. Write a function that counts the occurrences of a specific substring within a NumPy array of strings.\n",
    "#arr = np.array(['hello', 'world', 'hello', 'numpy', 'hello'])\n",
    "\n",
    "import numpy as np\n",
    "\n",
    "def count_substring_occurrences(arr, substring):\n",
    "    \"\"\"\n",
    "    Count the occurrences of a specific substring within a NumPy array of strings.\n",
    "\n",
    "    Parameters:\n",
    "        arr (numpy.ndarray): NumPy array of strings.\n",
    "        substring (str): The substring to count occurrences of.\n",
    "\n",
    "    Returns:\n",
    "        int: Number of occurrences of the substring within the array.\n",
    "    \"\"\"\n",
    "    # Convert the array to a list of strings for easier manipulation\n",
    "    arr_list = arr.tolist()\n",
    "    \n",
    "    # Count occurrences of the substring in each string\n",
    "    occurrences = [string.count(substring) for string in arr_list]\n",
    "    \n",
    "    # Return the total count\n",
    "    return sum(occurrences)\n",
    "\n",
    "# Test the function\n",
    "arr = np.array(['hello', 'world', 'hello', 'numpy', 'hello'])\n",
    "substring = 'hello'\n",
    "occurrences = count_substring_occurrences(arr, substring)\n",
    "print(f\"Occurrences of '{substring}' in the array: {occurrences}\")\n"
   ]
  },
  {
   "cell_type": "code",
   "execution_count": 45,
   "id": "b737e892-4951-4346-a12d-e5157ce666af",
   "metadata": {},
   "outputs": [
    {
     "name": "stdout",
     "output_type": "stream",
     "text": [
      "Uppercase characters extracted from the array: ['H', 'W', 'O', 'A', 'I', 'G', 'P', 'T']\n"
     ]
    }
   ],
   "source": [
    "#57. Write a function that extracts uppercase characters from a NumPy array of strings.\n",
    "#arr = np.array(['Hello', 'World', 'OpenAI', 'GPT'])\n",
    "\n",
    "import numpy as np\n",
    "\n",
    "def extract_uppercase_characters(arr):\n",
    "    \"\"\"\n",
    "    Extract uppercase characters from a NumPy array of strings.\n",
    "\n",
    "    Parameters:\n",
    "        arr (numpy.ndarray): NumPy array of strings.\n",
    "\n",
    "    Returns:\n",
    "        list: List of uppercase characters extracted from the array.\n",
    "    \"\"\"\n",
    "    # Convert the array to a list of strings for easier manipulation\n",
    "    arr_list = arr.tolist()\n",
    "    \n",
    "    # Initialize an empty list to store uppercase characters\n",
    "    uppercase_chars = []\n",
    "    \n",
    "    # Iterate through each string in the array\n",
    "    for string in arr_list:\n",
    "        # Extract uppercase characters from the string using list comprehension\n",
    "        uppercase_chars.extend([char for char in string if char.isupper()])\n",
    "    \n",
    "    # Return the list of uppercase characters\n",
    "    return uppercase_chars\n",
    "\n",
    "# Test the function\n",
    "arr = np.array(['Hello', 'World', 'OpenAI', 'GPT'])\n",
    "uppercase_chars = extract_uppercase_characters(arr)\n",
    "print(\"Uppercase characters extracted from the array:\", uppercase_chars)\n"
   ]
  },
  {
   "cell_type": "code",
   "execution_count": 46,
   "id": "aa6d1e06-7a36-454a-8cae-6a4249949ee1",
   "metadata": {},
   "outputs": [
    {
     "name": "stdout",
     "output_type": "stream",
     "text": [
      "['xpple' 'bxnxnx' 'grxpe' 'pinexpple']\n"
     ]
    }
   ],
   "source": [
    "#58. Write a function that replaces occurrences of a substring in a NumPy array of strings with a new string.\n",
    "#arr = np.array(['apple', 'banana', 'grape', 'pineapple'])\n",
    "\n",
    "import numpy as np\n",
    "\n",
    "def replace_substring(arr, old_substring, new_substring):\n",
    "    return np.char.replace(arr, old_substring, new_substring)\n",
    "\n",
    "# Example usage:\n",
    "arr = np.array(['apple', 'banana', 'grape', 'pineapple'])\n",
    "result = replace_substring(arr, 'a', 'x')\n",
    "print(result)"
   ]
  },
  {
   "cell_type": "code",
   "execution_count": 50,
   "id": "0d33afe9-47be-41b6-9236-cb0790e202f3",
   "metadata": {},
   "outputs": [
    {
     "name": "stdout",
     "output_type": "stream",
     "text": [
      "Concatenated array:\n",
      "['HelloOpen' 'WorldAI']\n"
     ]
    }
   ],
   "source": [
    "#59. Write a function that concatenates strings in a NumPy array element-wise.\n",
    "#arr1 = np.array(['Hello', 'World'])\n",
    "#arr2 = np.array(['Open', 'AI'])\n",
    "\n",
    "import numpy as np\n",
    "\n",
    "def concatenate_strings(arr1, arr2):\n",
    "    \"\"\"\n",
    "    Concatenate strings in two NumPy arrays element-wise.\n",
    "\n",
    "    Parameters:\n",
    "        arr1 (numpy.ndarray): First NumPy array of strings.\n",
    "        arr2 (numpy.ndarray): Second NumPy array of strings.\n",
    "\n",
    "    Returns:\n",
    "        numpy.ndarray: NumPy array containing the concatenated strings.\n",
    "    \"\"\"\n",
    "    # Concatenate strings element-wise using list comprehension\n",
    "    concatenated_arr = np.array([s1 + s2 for s1, s2 in zip(arr1, arr2)])\n",
    "\n",
    "    return concatenated_arr\n",
    "\n",
    "# Test the function\n",
    "arr1 = np.array(['Hello', 'World'])\n",
    "arr2 = np.array(['Open', 'AI'])\n",
    "concatenated_arr = concatenate_strings(arr1, arr2)\n",
    "print(\"Concatenated array:\")\n",
    "print(concatenated_arr)\n",
    "\n"
   ]
  },
  {
   "cell_type": "code",
   "execution_count": 51,
   "id": "2656dd96-914f-4f72-9ae5-0f9c7c6eb709",
   "metadata": {},
   "outputs": [
    {
     "name": "stdout",
     "output_type": "stream",
     "text": [
      "Length of the longest string in the array: 9\n"
     ]
    }
   ],
   "source": [
    "#60. Write a function that finds the length of the longest string in a NumPy array.\n",
    "#arr = np.array(['apple', 'banana', 'grape', 'pineapple'])\n",
    "\n",
    "import numpy as np\n",
    "\n",
    "def longest_string_length(arr):\n",
    "    \"\"\"\n",
    "    Find the length of the longest string in a NumPy array.\n",
    "\n",
    "    Parameters:\n",
    "        arr (numpy.ndarray): NumPy array of strings.\n",
    "\n",
    "    Returns:\n",
    "        int: Length of the longest string in the array.\n",
    "    \"\"\"\n",
    "    # Convert the array to a list of strings for easier manipulation\n",
    "    arr_list = arr.tolist()\n",
    "    \n",
    "    # Find the length of the longest string using max() function with key=len\n",
    "    longest_length = len(max(arr_list, key=len))\n",
    "    \n",
    "    return longest_length\n",
    "\n",
    "# Test the function\n",
    "arr = np.array(['apple', 'banana', 'grape', 'pineapple'])\n",
    "longest_length = longest_string_length(arr)\n",
    "print(\"Length of the longest string in the array:\", longest_length)\n"
   ]
  },
  {
   "cell_type": "code",
   "execution_count": 52,
   "id": "c8477bb7-fc84-444a-a5b7-d1ed5a0f558e",
   "metadata": {},
   "outputs": [
    {
     "name": "stdout",
     "output_type": "stream",
     "text": [
      "Dataset: [464  51  71 549 475 762 421 248  11 767 304 590 759 606 803 205 693 723\n",
      " 843 961 687 311  35 734 825  56 374 930 721 586 203 875 412 999  72 487\n",
      " 952 345 657 225 884 815 878 817 243 544 237 361 499 436 894 908 933 208\n",
      " 939 424 933 209  14 634 529 920 641 504 563 846 152 117 878 834 170  94\n",
      " 884 175 339  45 656 223 707 178 326  63  33 904 504 998 905 884 941 862\n",
      " 770  42 823 433 324 262 133 543  86 236]\n",
      "Mean: 521.29\n",
      "Median: 536.0\n",
      "Variance: 95778.5459\n",
      "Standard Deviation: 309.481091344851\n"
     ]
    }
   ],
   "source": [
    "#61. Create a dataset of 100 random integers between 1 and 1000. Compute the mean, median, variance, and\n",
    "#standard deviation of the dataset using NumPy's functions.\n",
    "\n",
    "import numpy as np\n",
    "\n",
    "# Generate the dataset of 100 random integers between 1 and 1000\n",
    "dataset = np.random.randint(1, 1001, size=100)\n",
    "\n",
    "# Compute the mean using np.mean()\n",
    "mean = np.mean(dataset)\n",
    "\n",
    "# Compute the median using np.median()\n",
    "median = np.median(dataset)\n",
    "\n",
    "# Compute the variance using np.var()\n",
    "variance = np.var(dataset)\n",
    "\n",
    "# Compute the standard deviation using np.std()\n",
    "std_deviation = np.std(dataset)\n",
    "\n",
    "# Print the results\n",
    "print(\"Dataset:\", dataset)\n",
    "print(\"Mean:\", mean)\n",
    "print(\"Median:\", median)\n",
    "print(\"Variance:\", variance)\n",
    "print(\"Standard Deviation:\", std_deviation)\n"
   ]
  },
  {
   "cell_type": "code",
   "execution_count": 53,
   "id": "09bd0d15-c99e-4cea-a96b-696001e6c651",
   "metadata": {},
   "outputs": [
    {
     "name": "stdout",
     "output_type": "stream",
     "text": [
      "Dataset: [82 88 53 25  4  1 86 18 50 79 17 99 23 34 26 63 25 29 32 56 66 75  3 83\n",
      " 47  4 83 28 41 53 76 24  1 48 55 91 64 20 75 15 79 79 83  8 54 43 65 21\n",
      " 75 22]\n",
      "25th Percentile: 23.25\n",
      "75th Percentile: 75.0\n"
     ]
    }
   ],
   "source": [
    "#62. Generate an array of 50 random numbers between 1 and 100. Find the 25th and 75th percentiles of the\n",
    "#dataset.\n",
    "\n",
    "import numpy as np\n",
    "\n",
    "# Generate the array of 50 random numbers between 1 and 100\n",
    "dataset = np.random.randint(1, 101, size=50)\n",
    "\n",
    "# Find the 25th percentile using np.percentile()\n",
    "percentile_25 = np.percentile(dataset, 25)\n",
    "\n",
    "# Find the 75th percentile using np.percentile()\n",
    "percentile_75 = np.percentile(dataset, 75)\n",
    "\n",
    "# Print the results\n",
    "print(\"Dataset:\", dataset)\n",
    "print(\"25th Percentile:\", percentile_25)\n",
    "print(\"75th Percentile:\", percentile_75)\n"
   ]
  },
  {
   "cell_type": "code",
   "execution_count": 54,
   "id": "b26475e4-1737-4c2c-b63a-cc54ae4a90ad",
   "metadata": {},
   "outputs": [
    {
     "name": "stdout",
     "output_type": "stream",
     "text": [
      "Correlation Coefficient between array1 and array2: -0.9999999999999999\n"
     ]
    }
   ],
   "source": [
    "#63. Create two arrays representing two sets of variables. Compute the correlation coefficient between these\n",
    "#arrays using NumPy's `corrcoef` function.\n",
    "\n",
    "import numpy as np\n",
    "\n",
    "# Create two arrays representing two sets of variables\n",
    "array1 = np.array([1, 2, 3, 4, 5])\n",
    "array2 = np.array([5, 4, 3, 2, 1])\n",
    "\n",
    "# Compute the correlation coefficient using np.corrcoef()\n",
    "correlation_coefficient = np.corrcoef(array1, array2)[0, 1]\n",
    "\n",
    "# Print the correlation coefficient\n",
    "print(\"Correlation Coefficient between array1 and array2:\", correlation_coefficient)\n"
   ]
  },
  {
   "cell_type": "code",
   "execution_count": 55,
   "id": "8f656ab1-b7b6-4b2e-9d61-85ab33ea2eaa",
   "metadata": {},
   "outputs": [
    {
     "name": "stdout",
     "output_type": "stream",
     "text": [
      "Matrix A:\n",
      "[[1 2 3]\n",
      " [4 5 6]\n",
      " [7 8 9]]\n",
      "\n",
      "Matrix B:\n",
      "[[9 8 7]\n",
      " [6 5 4]\n",
      " [3 2 1]]\n",
      "\n",
      "Result of matrix multiplication:\n",
      "[[ 30  24  18]\n",
      " [ 84  69  54]\n",
      " [138 114  90]]\n"
     ]
    }
   ],
   "source": [
    "#64. Create two matrices and perform matrix multiplication using NumPy's `dot` function.\n",
    "\n",
    "import numpy as np\n",
    "\n",
    "# Define the matrices\n",
    "matrix_a = np.array([[1, 2, 3],\n",
    "                     [4, 5, 6],\n",
    "                     [7, 8, 9]])\n",
    "\n",
    "matrix_b = np.array([[9, 8, 7],\n",
    "                     [6, 5, 4],\n",
    "                     [3, 2, 1]])\n",
    "\n",
    "# Perform matrix multiplication\n",
    "result = np.dot(matrix_a, matrix_b)\n",
    "\n",
    "print(\"Matrix A:\")\n",
    "print(matrix_a)\n",
    "print(\"\\nMatrix B:\")\n",
    "print(matrix_b)\n",
    "print(\"\\nResult of matrix multiplication:\")\n",
    "print(result)\n"
   ]
  },
  {
   "cell_type": "code",
   "execution_count": 56,
   "id": "ba802276-d501-4bd9-9133-c514130739c0",
   "metadata": {},
   "outputs": [
    {
     "name": "stdout",
     "output_type": "stream",
     "text": [
      "Array of 50 integers between 10 and 1000:\n",
      "[439 564 584 119 952 573 814 499 801 901 409 205 822 106 555 483 965 890\n",
      " 352 408 818 191 157 937 423 544  93  35 794  61 140 782 606 319 967 142\n",
      " 378 592  89 268 561 542 725 386 843 397 338 347 170 951]\n",
      "\n",
      "10th Percentile: 117.7\n",
      "25th Percentile (First Quartile): 280.75\n",
      "50th Percentile (Median): 491.0\n",
      "75th Percentile (Third Quartile): 791.0\n",
      "90th Percentile: 904.6\n"
     ]
    }
   ],
   "source": [
    "#65. Create an array of 50 integers between 10 and 1000. Calculate the 10th, 50th (median), and 90th\n",
    "#percentiles along with the first and third quartiles.\n",
    "\n",
    "import numpy as np\n",
    "\n",
    "# Create an array of 50 integers between 10 and 1000\n",
    "data = np.random.randint(10, 1000, size=50)\n",
    "\n",
    "# Calculate percentiles\n",
    "percentiles = np.percentile(data, [10, 25, 50, 75, 90])\n",
    "\n",
    "print(\"Array of 50 integers between 10 and 1000:\")\n",
    "print(data)\n",
    "print(\"\\n10th Percentile:\", percentiles[0])\n",
    "print(\"25th Percentile (First Quartile):\", percentiles[1])\n",
    "print(\"50th Percentile (Median):\", percentiles[2])\n",
    "print(\"75th Percentile (Third Quartile):\", percentiles[3])\n",
    "print(\"90th Percentile:\", percentiles[4])\n"
   ]
  },
  {
   "cell_type": "code",
   "execution_count": 57,
   "id": "db84025a-e880-4c96-b2d7-094da6c9b0b6",
   "metadata": {},
   "outputs": [
    {
     "name": "stdout",
     "output_type": "stream",
     "text": [
      "Element 10 found at index: 4\n"
     ]
    }
   ],
   "source": [
    "#66. Create a NumPy array of integers and find the index of a specific element\n",
    "\n",
    "import numpy as np\n",
    "\n",
    "# Create a NumPy array of integers\n",
    "arr = np.array([2, 4, 6, 8, 10, 12, 14, 16])\n",
    "\n",
    "# Element to find\n",
    "element_to_find = 10\n",
    "\n",
    "# Find the index of the element\n",
    "index = np.where(arr == element_to_find)[0]\n",
    "\n",
    "if len(index) > 0:\n",
    "    print(\"Element\", element_to_find, \"found at index:\", index[0])\n",
    "else:\n",
    "    print(\"Element\", element_to_find, \"not found in the array.\")\n"
   ]
  },
  {
   "cell_type": "code",
   "execution_count": 58,
   "id": "c83ad4e8-657c-4dbe-86bd-3e36978aeeb2",
   "metadata": {},
   "outputs": [
    {
     "name": "stdout",
     "output_type": "stream",
     "text": [
      "Random array:\n",
      "[0.81268603 0.64464147 0.5887382  0.60063323 0.58003112 0.43228422\n",
      " 0.61943646 0.95709572 0.01639158 0.36936787]\n",
      "\n",
      "Sorted array in ascending order:\n",
      "[0.01639158 0.36936787 0.43228422 0.58003112 0.5887382  0.60063323\n",
      " 0.61943646 0.64464147 0.81268603 0.95709572]\n"
     ]
    }
   ],
   "source": [
    "#67. Generate a random NumPy array and sort it in ascending order.\n",
    "\n",
    "import numpy as np\n",
    "\n",
    "# Generate a random NumPy array\n",
    "random_array = np.random.rand(10)\n",
    "\n",
    "# Sort the array in ascending order\n",
    "sorted_array = np.sort(random_array)\n",
    "\n",
    "print(\"Random array:\")\n",
    "print(random_array)\n",
    "print(\"\\nSorted array in ascending order:\")\n",
    "print(sorted_array)\n"
   ]
  },
  {
   "cell_type": "code",
   "execution_count": 59,
   "id": "da2e391f-fbe1-4c39-b1ce-7e3709e9ca7e",
   "metadata": {},
   "outputs": [
    {
     "name": "stdout",
     "output_type": "stream",
     "text": [
      "Original array:\n",
      "[12 25  6 42  8 30]\n",
      "\n",
      "Filtered array with elements > 20:\n",
      "[25 42 30]\n"
     ]
    }
   ],
   "source": [
    "#68. Filter elements >20  in the given NumPy array\n",
    "#arr = np.array([12, 25, 6, 42, 8, 30])\n",
    "\n",
    "import numpy as np\n",
    "\n",
    "arr = np.array([12, 25, 6, 42, 8, 30])\n",
    "\n",
    "# Filter elements > 20\n",
    "filtered_array = arr[arr > 20]\n",
    "\n",
    "print(\"Original array:\")\n",
    "print(arr)\n",
    "print(\"\\nFiltered array with elements > 20:\")\n",
    "print(filtered_array)\n"
   ]
  },
  {
   "cell_type": "code",
   "execution_count": 60,
   "id": "ed7fa2b4-f6e8-4456-971b-9f849fcdbd42",
   "metadata": {},
   "outputs": [
    {
     "name": "stdout",
     "output_type": "stream",
     "text": [
      "Original array:\n",
      "[ 1  5  8 12 15]\n",
      "\n",
      "Filtered array with elements divisible by 3:\n",
      "[12 15]\n"
     ]
    }
   ],
   "source": [
    "#69. Filter elements which are divisible by 3 from a given NumPy array.\n",
    "#arr = np.array([1, 5, 8, 12, 15])\n",
    "\n",
    "import numpy as np\n",
    "\n",
    "arr = np.array([1, 5, 8, 12, 15])\n",
    "\n",
    "# Filter elements divisible by 3\n",
    "filtered_array = arr[arr % 3 == 0]\n",
    "\n",
    "print(\"Original array:\")\n",
    "print(arr)\n",
    "print(\"\\nFiltered array with elements divisible by 3:\")\n",
    "print(filtered_array)\n"
   ]
  },
  {
   "cell_type": "code",
   "execution_count": 61,
   "id": "e54d5dda-f8be-4e12-996c-98849a19d951",
   "metadata": {},
   "outputs": [
    {
     "name": "stdout",
     "output_type": "stream",
     "text": [
      "Original array:\n",
      "[10 20 30 40 50]\n",
      "\n",
      "Filtered array with elements ≥ 20 and ≤ 40:\n",
      "[20 30 40]\n"
     ]
    }
   ],
   "source": [
    "#70. Filter elements which are ≥ 20 and ≤ 40 from a given NumPy array.\n",
    "# arr = np.array([10, 20, 30, 40, 50])\n",
    "\n",
    "import numpy as np\n",
    "\n",
    "arr = np.array([10, 20, 30, 40, 50])\n",
    "\n",
    "# Filter elements between 20 and 40 (inclusive)\n",
    "filtered_array = arr[(arr >= 20) & (arr <= 40)]\n",
    "\n",
    "print(\"Original array:\")\n",
    "print(arr)\n",
    "print(\"\\nFiltered array with elements ≥ 20 and ≤ 40:\")\n",
    "print(filtered_array)\n"
   ]
  },
  {
   "cell_type": "code",
   "execution_count": 62,
   "id": "ca05568b-28b3-4331-a1bc-78eb0ebd0e67",
   "metadata": {},
   "outputs": [
    {
     "name": "stdout",
     "output_type": "stream",
     "text": [
      "Byte order of the array: =\n"
     ]
    }
   ],
   "source": [
    "#71. For the given NumPy array, check its byte order using the `dtype` attribute byteorder.\n",
    "#arr = np.array([1, 2, 3])\n",
    "\n",
    "import numpy as np\n",
    "\n",
    "arr = np.array([1, 2, 3])\n",
    "\n",
    "# Check byte order\n",
    "byte_order = arr.dtype.byteorder\n",
    "\n",
    "print(\"Byte order of the array:\", byte_order)\n"
   ]
  },
  {
   "cell_type": "code",
   "execution_count": 63,
   "id": "108a41ee-cb99-4c1e-b708-0de816d4294b",
   "metadata": {},
   "outputs": [
    {
     "name": "stdout",
     "output_type": "stream",
     "text": [
      "Array after byte swapping in place:\n",
      "[16777216 33554432 50331648]\n"
     ]
    }
   ],
   "source": [
    "#72. For the given NumPy array, perform byte swapping in place using `byteswap()`.\n",
    "#arr = np.array([1, 2, 3], dtype=np.int32)\n",
    "\n",
    "import numpy as np\n",
    "\n",
    "arr = np.array([1, 2, 3], dtype=np.int32)\n",
    "\n",
    "# Perform byte swapping in place\n",
    "arr.byteswap(True)\n",
    "\n",
    "print(\"Array after byte swapping in place:\")\n",
    "print(arr)\n"
   ]
  },
  {
   "cell_type": "code",
   "execution_count": 64,
   "id": "f9305917-0c92-40d7-9f3c-55c03935d673",
   "metadata": {},
   "outputs": [
    {
     "name": "stdout",
     "output_type": "stream",
     "text": [
      "Original array:\n",
      "[1 2 3]\n",
      "\n",
      "Array with swapped byte order:\n",
      "[16777216 33554432 50331648]\n"
     ]
    }
   ],
   "source": [
    "#73. For the given NumPy array, swap its byte order without modifying the original array using\n",
    "#`newbyteorder()`.\n",
    "#arr = np.array([1, 2, 3], dtype=np.int32)\n",
    "\n",
    "import numpy as np\n",
    "\n",
    "arr = np.array([1, 2, 3], dtype=np.int32)\n",
    "\n",
    "# Swap byte order without modifying original array\n",
    "swapped_arr = arr.newbyteorder()\n",
    "\n",
    "print(\"Original array:\")\n",
    "print(arr)\n",
    "print(\"\\nArray with swapped byte order:\")\n",
    "print(swapped_arr)\n"
   ]
  },
  {
   "cell_type": "code",
   "execution_count": 65,
   "id": "071ba79d-6b30-4787-9ff0-673ed6ff862e",
   "metadata": {},
   "outputs": [
    {
     "name": "stdout",
     "output_type": "stream",
     "text": [
      "Original array:\n",
      "[1 2 3]\n",
      "\n",
      "Array with swapped byte order based on system endianness:\n",
      "[16777216 33554432 50331648]\n"
     ]
    }
   ],
   "source": [
    "#74. For the given NumPy array and swap its byte order conditionally based on system endianness using\n",
    "#`newbyteorder()`.\n",
    "#arr = np.array([1, 2, 3], dtype=np.int32)\n",
    "\n",
    "import numpy as np\n",
    "import sys\n",
    "\n",
    "arr = np.array([1, 2, 3], dtype=np.int32)\n",
    "\n",
    "# Conditionally swap byte order based on system endianness\n",
    "if sys.byteorder == 'little':\n",
    "    swapped_arr = arr.newbyteorder('big')\n",
    "else:\n",
    "    swapped_arr = arr.newbyteorder('little')\n",
    "\n",
    "print(\"Original array:\")\n",
    "print(arr)\n",
    "print(\"\\nArray with swapped byte order based on system endianness:\")\n",
    "print(swapped_arr)\n"
   ]
  },
  {
   "cell_type": "code",
   "execution_count": 66,
   "id": "8f6fbc04-11c5-474c-bd54-a17abe65561e",
   "metadata": {},
   "outputs": [
    {
     "name": "stdout",
     "output_type": "stream",
     "text": [
      "No byte swapping necessary for the current system.\n"
     ]
    }
   ],
   "source": [
    "#75. For the given NumPy array, check if byte swapping is necessary for the current system using `dtype`\n",
    "#attribute `byteorder`.\n",
    "#arr = np.array([1, 2, 3], dtype=np.int32)\n",
    "\n",
    "import numpy as np\n",
    "\n",
    "arr = np.array([1, 2, 3], dtype=np.int32)\n",
    "\n",
    "# Check if byte swapping is necessary\n",
    "byte_order = arr.dtype.byteorder\n",
    "\n",
    "if byte_order == '=':\n",
    "    print(\"No byte swapping necessary for the current system.\")\n",
    "elif byte_order == '|':\n",
    "    print(\"Byte swapping is necessary for the current system.\")\n",
    "else:\n",
    "    print(\"Unknown byte order:\", byte_order)\n"
   ]
  },
  {
   "cell_type": "code",
   "execution_count": 67,
   "id": "3782d3b7-b62a-4863-bd49-b10f9597da79",
   "metadata": {},
   "outputs": [
    {
     "name": "stdout",
     "output_type": "stream",
     "text": [
      "Original arr1:\n",
      "[ 1  2  3  4  5  6  7  8  9 10]\n",
      "\n",
      "Modified copy_arr:\n",
      "[100   2   3   4   5   6   7   8   9  10]\n"
     ]
    }
   ],
   "source": [
    "#76. Create a NumPy array `arr1` with values from 1 to 10. Create a copy of `arr1` named `copy_arr` and modify\n",
    "#an element in `copy_arr`. Check if modifying `copy_arr` affects `arr1`.\n",
    "\n",
    "import numpy as np\n",
    "\n",
    "# Create arr1 with values from 1 to 10\n",
    "arr1 = np.arange(1, 11)\n",
    "\n",
    "# Create a copy of arr1 named copy_arr\n",
    "copy_arr = arr1.copy()\n",
    "\n",
    "# Modify an element in copy_arr\n",
    "copy_arr[0] = 100\n",
    "\n",
    "# Check if modifying copy_arr affects arr1\n",
    "print(\"Original arr1:\")\n",
    "print(arr1)\n",
    "print(\"\\nModified copy_arr:\")\n",
    "print(copy_arr)\n"
   ]
  },
  {
   "cell_type": "code",
   "execution_count": 68,
   "id": "e91b4ec1-5cb8-4bef-8162-56f8cb523df4",
   "metadata": {},
   "outputs": [
    {
     "name": "stdout",
     "output_type": "stream",
     "text": [
      "Original matrix:\n",
      "[[ 42   0  50]\n",
      " [ 34 999   2]\n",
      " [ 14  13  30]]\n",
      "\n",
      "Modified view_slice:\n",
      "[[999   2]\n",
      " [ 13  30]]\n"
     ]
    }
   ],
   "source": [
    "#77. Create a 2D NumPy array `matrix` of shape (3, 3) with random integers. Extract a slice `view_slice` from\n",
    "#the matrix. Modify an element in `view_slice` and observe if it changes the original `matrix`.\n",
    "\n",
    "import numpy as np\n",
    "\n",
    "# Create a 2D NumPy array matrix of shape (3, 3) with random integers\n",
    "matrix = np.random.randint(0, 100, size=(3, 3))\n",
    "\n",
    "# Extract a slice view_slice from the matrix\n",
    "view_slice = matrix[1:, 1:]\n",
    "\n",
    "# Modify an element in view_slice\n",
    "view_slice[0, 0] = 999\n",
    "\n",
    "# Check if modifying view_slice changes the original matrix\n",
    "print(\"Original matrix:\")\n",
    "print(matrix)\n",
    "print(\"\\nModified view_slice:\")\n",
    "print(view_slice)\n"
   ]
  },
  {
   "cell_type": "code",
   "execution_count": 69,
   "id": "6f6cd139-b042-48d0-bc3d-91b9b3253609",
   "metadata": {},
   "outputs": [
    {
     "name": "stdout",
     "output_type": "stream",
     "text": [
      "Original array_a:\n",
      "[[ 1  2  3]\n",
      " [ 4 10 11]\n",
      " [ 7 13 14]\n",
      " [10 11 12]]\n",
      "\n",
      "Modified view_b:\n",
      "[[10 11]\n",
      " [13 14]]\n"
     ]
    }
   ],
   "source": [
    "#78. Create a NumPy array `array_a` of shape (4, 3) with sequential integers from 1 to 12. Extract a slice\n",
    "#`view_b` from `array_a` and broadcast the addition of 5 to view_b. Check if it alters the original `array_a`.\n",
    "\n",
    "import numpy as np\n",
    "\n",
    "# Create a NumPy array array_a of shape (4, 3) with sequential integers from 1 to 12\n",
    "array_a = np.arange(1, 13).reshape(4, 3)\n",
    "\n",
    "# Extract a slice view_b from array_a\n",
    "view_b = array_a[1:3, 1:3]\n",
    "\n",
    "# Broadcast the addition of 5 to view_b\n",
    "view_b += 5\n",
    "\n",
    "# Check if it alters the original array_a\n",
    "print(\"Original array_a:\")\n",
    "print(array_a)\n",
    "print(\"\\nModified view_b:\")\n",
    "print(view_b)\n"
   ]
  },
  {
   "cell_type": "code",
   "execution_count": 70,
   "id": "72a4b6b7-ae2a-43b4-b9c6-a90bc828794e",
   "metadata": {},
   "outputs": [
    {
     "name": "stdout",
     "output_type": "stream",
     "text": [
      "Original orig_array:\n",
      "[[100   2   3   4]\n",
      " [  5   6   7   8]]\n",
      "\n",
      "Modified reshaped_view:\n",
      "[[100   2]\n",
      " [  3   4]\n",
      " [  5   6]\n",
      " [  7   8]]\n"
     ]
    }
   ],
   "source": [
    "#79. Create a NumPy array `orig_array` of shape (2, 4) with values from 1 to 8. Create a reshaped view\n",
    "#`reshaped_view` of shape (4, 2) from orig_array. Modify an element in `reshaped_view` and check if it\n",
    "#reflects changes in the original `orig_array`.\n",
    "\n",
    "import numpy as np\n",
    "\n",
    "# Create a NumPy array orig_array of shape (2, 4) with values from 1 to 8\n",
    "orig_array = np.arange(1, 9).reshape(2, 4)\n",
    "\n",
    "# Create a reshaped view reshaped_view of shape (4, 2) from orig_array\n",
    "reshaped_view = orig_array.reshape(4, 2)\n",
    "\n",
    "# Modify an element in reshaped_view\n",
    "reshaped_view[0, 0] = 100\n",
    "\n",
    "# Check if it reflects changes in the original orig_array\n",
    "print(\"Original orig_array:\")\n",
    "print(orig_array)\n",
    "print(\"\\nModified reshaped_view:\")\n",
    "print(reshaped_view)\n"
   ]
  },
  {
   "cell_type": "code",
   "execution_count": 73,
   "id": "6c820884-af12-4261-b33b-373034d3bc45",
   "metadata": {},
   "outputs": [
    {
     "name": "stdout",
     "output_type": "stream",
     "text": [
      "Original data:\n",
      "[[1 1 2 5]\n",
      " [4 7 9 7]\n",
      " [8 3 0 7]]\n",
      "\n",
      "Modified data_copy:\n",
      "[100   9   7   8   7]\n"
     ]
    }
   ],
   "source": [
    "#80. Create a NumPy array `data` of shape (3, 4) with random integers. Extract a copy `data_copy` of\n",
    "#elements greater than 5. Modify an element in `data_copy` and verify if it affects the original `data`.\n",
    "\n",
    "import numpy as np\n",
    "\n",
    "# Create a NumPy array data of shape (3, 4) with random integers\n",
    "data = np.random.randint(0, 10, size=(3, 4))\n",
    "\n",
    "# Extract a copy data_copy of elements greater than 5\n",
    "data_copy = data[data > 5].copy()\n",
    "\n",
    "# Modify an element in data_copy\n",
    "data_copy[0] = 100\n",
    "\n",
    "# Verify if it affects the original data\n",
    "print(\"Original data:\")\n",
    "print(data)\n",
    "print(\"\\nModified data_copy:\")\n",
    "print(data_copy)\n"
   ]
  },
  {
   "cell_type": "code",
   "execution_count": 74,
   "id": "17be894a-16fd-4a16-b351-dd8b7e39a56e",
   "metadata": {},
   "outputs": [
    {
     "name": "stdout",
     "output_type": "stream",
     "text": [
      "Matrix A:\n",
      "[[8 9 1]\n",
      " [0 5 0]\n",
      " [7 1 5]]\n",
      "\n",
      "Matrix B:\n",
      "[[5 2 4]\n",
      " [0 6 9]\n",
      " [1 3 0]]\n",
      "\n",
      "Addition result (A + B):\n",
      "[[13 11  5]\n",
      " [ 0 11  9]\n",
      " [ 8  4  5]]\n",
      "\n",
      "Subtraction result (A - B):\n",
      "[[ 3  7 -3]\n",
      " [ 0 -1 -9]\n",
      " [ 6 -2  5]]\n"
     ]
    }
   ],
   "source": [
    "#81. Create two matrices A and B of identical shape containing integers and perform addition and subtraction\n",
    "#operations between them.\n",
    "\n",
    "import numpy as np\n",
    "\n",
    "# Define the shape of the matrices\n",
    "shape = (3, 3)\n",
    "\n",
    "# Create matrices A and B of identical shape containing random integers\n",
    "A = np.random.randint(0, 10, size=shape)\n",
    "B = np.random.randint(0, 10, size=shape)\n",
    "\n",
    "# Perform addition and subtraction operations between matrices A and B\n",
    "addition_result = A + B\n",
    "subtraction_result = A - B\n",
    "\n",
    "# Print the original matrices and the results\n",
    "print(\"Matrix A:\")\n",
    "print(A)\n",
    "print(\"\\nMatrix B:\")\n",
    "print(B)\n",
    "print(\"\\nAddition result (A + B):\")\n",
    "print(addition_result)\n",
    "print(\"\\nSubtraction result (A - B):\")\n",
    "print(subtraction_result)\n"
   ]
  },
  {
   "cell_type": "code",
   "execution_count": 75,
   "id": "338cc9a2-3cd9-4f5b-a8f9-91878ca94f1a",
   "metadata": {},
   "outputs": [
    {
     "name": "stdout",
     "output_type": "stream",
     "text": [
      "Matrix C (3x2):\n",
      "[[7 4]\n",
      " [0 9]\n",
      " [2 4]]\n",
      "\n",
      "Matrix D (2x4):\n",
      "[[0 6 4 3]\n",
      " [8 4 2 2]]\n",
      "\n",
      "Matrix multiplication result (C * D):\n",
      "[[32 58 36 29]\n",
      " [72 36 18 18]\n",
      " [32 28 16 14]]\n"
     ]
    }
   ],
   "source": [
    "#82. Generate two matrices `C` (3x2) and `D` (2x4) and perform matrix multiplication.\n",
    "\n",
    "import numpy as np\n",
    "\n",
    "# Generate matrices C (3x2) and D (2x4)\n",
    "C = np.random.randint(0, 10, size=(3, 2))\n",
    "D = np.random.randint(0, 10, size=(2, 4))\n",
    "\n",
    "# Perform matrix multiplication\n",
    "multiplication_result = np.dot(C, D)\n",
    "\n",
    "# Print the matrices and the result of multiplication\n",
    "print(\"Matrix C (3x2):\")\n",
    "print(C)\n",
    "print(\"\\nMatrix D (2x4):\")\n",
    "print(D)\n",
    "print(\"\\nMatrix multiplication result (C * D):\")\n",
    "print(multiplication_result)\n"
   ]
  },
  {
   "cell_type": "code",
   "execution_count": 76,
   "id": "730db901-67f5-465d-9a53-491fd6969505",
   "metadata": {},
   "outputs": [
    {
     "name": "stdout",
     "output_type": "stream",
     "text": [
      "Matrix E:\n",
      "[[1 2 3]\n",
      " [4 5 6]]\n",
      "\n",
      "Transpose of matrix E:\n",
      "[[1 4]\n",
      " [2 5]\n",
      " [3 6]]\n"
     ]
    }
   ],
   "source": [
    "#83. Create a matrix `E` and find its transpose.\n",
    "\n",
    "import numpy as np\n",
    "\n",
    "# Create a matrix E\n",
    "E = np.array([[1, 2, 3],\n",
    "              [4, 5, 6]])\n",
    "\n",
    "# Find the transpose of matrix E\n",
    "E_transpose = np.transpose(E)\n",
    "\n",
    "# Print the original matrix and its transpose\n",
    "print(\"Matrix E:\")\n",
    "print(E)\n",
    "print(\"\\nTranspose of matrix E:\")\n",
    "print(E_transpose)\n"
   ]
  },
  {
   "cell_type": "code",
   "execution_count": 77,
   "id": "33175a88-75a9-4290-8202-bf7747ac52d4",
   "metadata": {},
   "outputs": [
    {
     "name": "stdout",
     "output_type": "stream",
     "text": [
      "Matrix F:\n",
      "[[1 2 3]\n",
      " [4 5 6]\n",
      " [7 8 9]]\n",
      "\n",
      "Determinant of matrix F: 0.0\n"
     ]
    }
   ],
   "source": [
    "#84. Generate a square matrix `F` and compute its determinant.\n",
    "\n",
    "import numpy as np\n",
    "\n",
    "# Generate a square matrix F\n",
    "F = np.array([[1, 2, 3],\n",
    "              [4, 5, 6],\n",
    "              [7, 8, 9]])\n",
    "\n",
    "# Compute the determinant of matrix F\n",
    "determinant_F = np.linalg.det(F)\n",
    "\n",
    "# Print the matrix F and its determinant\n",
    "print(\"Matrix F:\")\n",
    "print(F)\n",
    "print(\"\\nDeterminant of matrix F:\", determinant_F)\n"
   ]
  },
  {
   "cell_type": "code",
   "execution_count": 78,
   "id": "20898a4c-34ae-4829-b490-f628bcc5c370",
   "metadata": {},
   "outputs": [
    {
     "name": "stdout",
     "output_type": "stream",
     "text": [
      "Matrix G:\n",
      "[[1 2]\n",
      " [3 4]]\n",
      "\n",
      "Inverse of matrix G:\n",
      "[[-2.   1. ]\n",
      " [ 1.5 -0.5]]\n"
     ]
    }
   ],
   "source": [
    "#85. Create a square matrix `G` and find its inverse.\n",
    "\n",
    "import numpy as np\n",
    "\n",
    "# Create a square matrix G\n",
    "G = np.array([[1, 2],\n",
    "              [3, 4]])\n",
    "\n",
    "# Find the inverse of matrix G\n",
    "inverse_G = np.linalg.inv(G)\n",
    "\n",
    "# Print the matrix G and its inverse\n",
    "print(\"Matrix G:\")\n",
    "print(G)\n",
    "print(\"\\nInverse of matrix G:\")\n",
    "print(inverse_G)\n"
   ]
  },
  {
   "cell_type": "code",
   "execution_count": null,
   "id": "6bad10ff-8060-4555-af68-84e96238d805",
   "metadata": {},
   "outputs": [],
   "source": []
  }
 ],
 "metadata": {
  "kernelspec": {
   "display_name": "Python 3 (ipykernel)",
   "language": "python",
   "name": "python3"
  },
  "language_info": {
   "codemirror_mode": {
    "name": "ipython",
    "version": 3
   },
   "file_extension": ".py",
   "mimetype": "text/x-python",
   "name": "python",
   "nbconvert_exporter": "python",
   "pygments_lexer": "ipython3",
   "version": "3.10.8"
  }
 },
 "nbformat": 4,
 "nbformat_minor": 5
}
